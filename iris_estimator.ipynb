{
 "cells": [
  {
   "cell_type": "code",
   "execution_count": 1,
   "metadata": {},
   "outputs": [],
   "source": [
    "import warnings\n",
    "warnings.filterwarnings(\"ignore\")"
   ]
  },
  {
   "cell_type": "code",
   "execution_count": 2,
   "metadata": {},
   "outputs": [],
   "source": [
    "import numpy as np\n",
    "import pandas as pd\n",
    "\n",
    "from functools import partial\n",
    "\n",
    "import tensorflow as tf\n",
    "from sklearn.metrics import confusion_matrix\n",
    "\n",
    "from iris_data import train, x_train, y_train, \\\n",
    "                      test, x_test, y_test, \\\n",
    "                      SPECIES, LARGE"
   ]
  },
  {
   "cell_type": "code",
   "execution_count": 3,
   "metadata": {},
   "outputs": [],
   "source": [
    "tf.set_random_seed(1)\n",
    "tf.logging.set_verbosity(tf.logging.ERROR)"
   ]
  },
  {
   "cell_type": "code",
   "execution_count": 4,
   "metadata": {},
   "outputs": [],
   "source": [
    "# construct inputs\n",
    "def input_fn(df, batch_size=1, shuffle=True, num_epochs=None):\n",
    "    features = df.to_dict(orient='list')\n",
    "    features = {k: np.array(v) for k, v in features.items()}\n",
    "    try:\n",
    "        labels = features['Species']\n",
    "        del features['Species']\n",
    "        ds = tf.data.Dataset.from_tensor_slices((features, labels))\n",
    "    except KeyError:\n",
    "        ds = tf.data.Dataset.from_tensor_slices(features)\n",
    "\n",
    "    if shuffle:\n",
    "        ds = ds.shuffle(buffer_size=LARGE)\n",
    "    \n",
    "    ds = ds.repeat(num_epochs).batch(batch_size)\n",
    "    return ds.make_one_shot_iterator().get_next()\n",
    "\n",
    "predict_input_fn = partial(input_fn, num_epochs=1, shuffle=False)"
   ]
  },
  {
   "cell_type": "code",
   "execution_count": 5,
   "metadata": {},
   "outputs": [],
   "source": [
    "# create model\n",
    "col = [\n",
    "    tf.feature_column.numeric_column('SepalLength'), \n",
    "    tf.feature_column.numeric_column('SepalWidth'), \n",
    "    tf.feature_column.numeric_column('PetalLength'), \n",
    "    tf.feature_column.numeric_column('PetalWidth')\n",
    "]\n",
    "\n",
    "optimizer = tf.train.AdagradOptimizer(learning_rate=0.1)\n",
    "\n",
    "model = tf.estimator.DNNClassifier(\n",
    "    feature_columns=col,\n",
    "    hidden_units=[2],\n",
    "    optimizer=optimizer,\n",
    "    n_classes=len(SPECIES)\n",
    ")"
   ]
  },
  {
   "cell_type": "code",
   "execution_count": 6,
   "metadata": {},
   "outputs": [
    {
     "data": {
      "text/plain": [
       "<tensorflow.python.estimator.canned.dnn.DNNClassifier at 0x7f102bec7278>"
      ]
     },
     "execution_count": 6,
     "metadata": {},
     "output_type": "execute_result"
    }
   ],
   "source": [
    "# train\n",
    "model.train(input_fn=lambda: input_fn(train, batch_size=1, num_epochs=20))"
   ]
  },
  {
   "cell_type": "code",
   "execution_count": 7,
   "metadata": {},
   "outputs": [
    {
     "data": {
      "text/plain": [
       "array([[ 8,  0,  0],\n",
       "       [ 0, 13,  1],\n",
       "       [ 0,  0,  8]])"
      ]
     },
     "execution_count": 7,
     "metadata": {},
     "output_type": "execute_result"
    }
   ],
   "source": [
    "# confusion matrix\n",
    "y_test_pred = model.predict(input_fn=lambda: predict_input_fn(test))\n",
    "y_test_pred = np.array([item['class_ids'][0] for item in y_test_pred])\n",
    "confusion_matrix(y_test, y_test_pred)"
   ]
  }
 ],
 "metadata": {
  "kernelspec": {
   "display_name": "Python 3",
   "language": "python",
   "name": "python3"
  },
  "language_info": {
   "codemirror_mode": {
    "name": "ipython",
    "version": 3
   },
   "file_extension": ".py",
   "mimetype": "text/x-python",
   "name": "python",
   "nbconvert_exporter": "python",
   "pygments_lexer": "ipython3",
   "version": "3.6.5"
  }
 },
 "nbformat": 4,
 "nbformat_minor": 2
}
