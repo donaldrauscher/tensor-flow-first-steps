{
 "cells": [
  {
   "cell_type": "code",
   "execution_count": 1,
   "metadata": {},
   "outputs": [],
   "source": [
    "import warnings\n",
    "warnings.filterwarnings(\"ignore\")"
   ]
  },
  {
   "cell_type": "code",
   "execution_count": 2,
   "metadata": {},
   "outputs": [],
   "source": [
    "import bisect\n",
    "import functools\n",
    "import io\n",
    "import itertools\n",
    "import math\n",
    "\n",
    "from matplotlib import pyplot as plt\n",
    "\n",
    "import numpy as np\n",
    "import pandas as pd\n",
    "\n",
    "import tensorflow as tf\n",
    "from sklearn.metrics import roc_auc_score, accuracy_score, classification_report"
   ]
  },
  {
   "cell_type": "code",
   "execution_count": 3,
   "metadata": {},
   "outputs": [],
   "source": [
    "tf.logging.set_verbosity(tf.logging.ERROR)\n",
    "tf.set_random_seed(1)"
   ]
  },
  {
   "cell_type": "code",
   "execution_count": 4,
   "metadata": {},
   "outputs": [],
   "source": [
    "LARGE = 100000"
   ]
  },
  {
   "cell_type": "markdown",
   "metadata": {},
   "source": [
    "### Load data"
   ]
  },
  {
   "cell_type": "code",
   "execution_count": 5,
   "metadata": {},
   "outputs": [],
   "source": [
    "# download data\n",
    "train_url = 'https://download.mlcc.google.com/mledu-datasets/sparse-data-embedding/train.tfrecord'\n",
    "train_path = tf.keras.utils.get_file(train_url.split('/')[-1], train_url)\n",
    "test_url = 'https://download.mlcc.google.com/mledu-datasets/sparse-data-embedding/test.tfrecord'\n",
    "test_path = tf.keras.utils.get_file(test_url.split('/')[-1], test_url)"
   ]
  },
  {
   "cell_type": "code",
   "execution_count": 6,
   "metadata": {},
   "outputs": [],
   "source": [
    "# download the vocabulary file.\n",
    "terms_url = 'https://download.mlcc.google.com/mledu-datasets/sparse-data-embedding/terms.txt'\n",
    "terms_path = tf.keras.utils.get_file(terms_url.split('/')[-1], terms_url)\n",
    "\n",
    "vocab = None\n",
    "with io.open(terms_path, 'r', encoding='utf8') as f:\n",
    "    vocab = list(set(f.read().split()))\n",
    "\n",
    "vocab.sort()"
   ]
  },
  {
   "cell_type": "code",
   "execution_count": 7,
   "metadata": {},
   "outputs": [],
   "source": [
    "# load data\n",
    "def parse_fn(record):\n",
    "    features = {\n",
    "        \"terms\": tf.VarLenFeature(dtype=tf.string),\n",
    "        \"labels\": tf.FixedLenFeature(shape=[1], dtype=tf.float32)\n",
    "    }\n",
    "  \n",
    "    parsed_features = tf.parse_single_example(record, features)\n",
    "\n",
    "    terms = parsed_features['terms'].values\n",
    "    labels = parsed_features['labels']\n",
    "\n",
    "    return  terms, labels\n",
    "\n",
    "\n",
    "filenames = tf.placeholder(tf.string, shape=[None])\n",
    "ds = tf.data.TFRecordDataset(filenames)\n",
    "ds = ds.map(parse_fn)\n",
    "ds = ds.padded_batch(LARGE, ds.output_shapes)\n",
    "ds_iter = ds.make_initializable_iterator()\n",
    "\n",
    "with tf.Session() as sess:\n",
    "    sess.run(ds_iter.initializer, feed_dict={filenames: [train_path]})\n",
    "    x_train, y_train = sess.run(ds_iter.get_next())\n",
    "\n",
    "    sess.run(ds_iter.initializer, feed_dict={filenames: [test_path]})\n",
    "    x_test, y_test = sess.run(ds_iter.get_next())"
   ]
  },
  {
   "cell_type": "markdown",
   "metadata": {},
   "source": [
    "### Process data\n",
    "\n",
    "Specifically need to replace each word with a vocabulary index; pad with '-1' so not jagged"
   ]
  },
  {
   "cell_type": "code",
   "execution_count": 8,
   "metadata": {},
   "outputs": [],
   "source": [
    "# process the data\n",
    "@functools.lru_cache(maxsize=None, typed=False)\n",
    "def get_word_index(word):\n",
    "    i = bisect.bisect_left(vocab, word)\n",
    "    if i != len(vocab) and vocab[i] == word:\n",
    "        return i\n",
    "\n",
    "    \n",
    "def convert_words_to_index(words):\n",
    "    idx = []\n",
    "    for word in words:\n",
    "        if word == b'':\n",
    "            continue\n",
    "        i = get_word_index(word.decode('utf-8'))\n",
    "        if i:\n",
    "            idx.append(i)\n",
    "    idx += [-1] * (len(words) - len(idx))\n",
    "    return idx\n",
    "\n",
    "\n",
    "x_train = np.array([convert_words_to_index(words) for words in x_train])\n",
    "x_test = np.array([convert_words_to_index(words) for words in x_test])"
   ]
  },
  {
   "cell_type": "markdown",
   "metadata": {},
   "source": [
    "### Build graph"
   ]
  },
  {
   "cell_type": "code",
   "execution_count": 9,
   "metadata": {},
   "outputs": [],
   "source": [
    "VOCAB_SIZE = len(vocab)\n",
    "EMBED_SIZE = 20\n",
    "\n",
    "x = tf.sparse_placeholder(tf.int32)\n",
    "y = tf.placeholder(tf.int32, shape=[None, 1])\n",
    "\n",
    "is_train = tf.placeholder_with_default(True, shape=())\n",
    "learning_rate = tf.placeholder_with_default(0.1, shape=())\n",
    "\n",
    "embed_matrix = tf.get_variable('embed_matrix', \n",
    "                               shape=[VOCAB_SIZE, EMBED_SIZE],\n",
    "                               initializer=tf.truncated_normal_initializer(0, 1/math.sqrt(EMBED_SIZE)))\n",
    "\n",
    "embed = tf.nn.embedding_lookup_sparse(embed_matrix, x, None, name='embedding')\n",
    "\n",
    "linear1 = tf.layers.dense(embed, units=10, activation=tf.nn.leaky_relu)\n",
    "dropout = tf.layers.dropout(linear1, rate=tf.cond(is_train, lambda: 0.5, lambda: 0.0))\n",
    "linear2 = tf.layers.dense(dropout, units=10)\n",
    "logits = tf.layers.dense(linear2, units=2)\n",
    "\n",
    "pred_class = tf.argmax(logits, 1)\n",
    "pred_prob = tf.nn.log_softmax(logits)\n",
    "\n",
    "loss = tf.losses.sparse_softmax_cross_entropy(labels=y, logits=logits)\n",
    "\n",
    "optimizer = tf.train.AdagradOptimizer(learning_rate=learning_rate)\n",
    "optimizer = tf.contrib.estimator.clip_gradients_by_norm(optimizer, 5.0)\n",
    "\n",
    "train_op = optimizer.minimize(loss)"
   ]
  },
  {
   "cell_type": "markdown",
   "metadata": {},
   "source": [
    "### Some functions for tuning"
   ]
  },
  {
   "cell_type": "code",
   "execution_count": 10,
   "metadata": {},
   "outputs": [],
   "source": [
    "# converts numpy array to sparse tensor\n",
    "def np_to_sparse_tensor(arr, null_idx=-1):\n",
    "    idx  = np.where(arr != null_idx)\n",
    "    return tf.SparseTensorValue(np.vstack(idx).T, arr[idx], arr.shape)\n",
    "\n",
    "\n",
    "train_args = {x: np_to_sparse_tensor(x_train), y: y_train, is_train: False}\n",
    "test_args = {x: np_to_sparse_tensor(x_test), y: y_test, is_train: False}"
   ]
  },
  {
   "cell_type": "code",
   "execution_count": 11,
   "metadata": {},
   "outputs": [],
   "source": [
    "# construct inputs\n",
    "def input_fn(x, y, batch_size=1, shuffle=True, num_epoch=None):    \n",
    "    ds = tf.data.Dataset.from_tensor_slices((x, y))\n",
    "\n",
    "    if shuffle:\n",
    "        ds = ds.shuffle(buffer_size=LARGE)\n",
    "    \n",
    "    ds = ds.repeat(num_epoch).batch(batch_size)\n",
    "    return ds.make_one_shot_iterator().get_next()"
   ]
  },
  {
   "cell_type": "code",
   "execution_count": 12,
   "metadata": {},
   "outputs": [],
   "source": [
    "# train graph with a given dataset\n",
    "def run(ds_iter, lr_gen, stats_callback, skip_step=None):\n",
    "    sess = tf.Session()\n",
    "\n",
    "    var_init = tf.global_variables_initializer()\n",
    "    sess.run(var_init)\n",
    "\n",
    "    stats = []\n",
    "    step = 1\n",
    "    while True:\n",
    "        try:\n",
    "            xi_train, yi_train = sess.run(ds_iter)\n",
    "            lr = lr_gen.__next__()\n",
    "            \n",
    "            if skip_step is None:\n",
    "                skip_step = 1000 // len(yi_train)\n",
    "            \n",
    "            sess.run(train_op, feed_dict={x: np_to_sparse_tensor(xi_train), y: yi_train, learning_rate: lr})\n",
    "\n",
    "            if (step % skip_step) == 0:\n",
    "                continue_train = stats_callback(sess, stats, step // skip_step, lr)\n",
    "                if not continue_train:\n",
    "                    break\n",
    "\n",
    "            step += 1\n",
    "        except tf.errors.OutOfRangeError:\n",
    "            break\n",
    "\n",
    "    return sess, stats"
   ]
  },
  {
   "cell_type": "markdown",
   "metadata": {},
   "source": [
    "### Tune learning rate\n",
    "\n",
    "Learning rate is increased on log scale until loss stops improving"
   ]
  },
  {
   "cell_type": "code",
   "execution_count": 13,
   "metadata": {},
   "outputs": [],
   "source": [
    "# # tune with exponentially increasing learning rates\n",
    "# start_lr = 1e-3\n",
    "# end_lr = 10\n",
    "# batch_size = 1\n",
    "# num_epoch = 3\n",
    "# num_batch = math.ceil(len(y_train)*num_epoch/batch_size)\n",
    "# multiplier = (end_lr/start_lr)**(1/(num_batch-1))\n",
    "\n",
    "\n",
    "# def lr_fn(start, multiplier):\n",
    "#     for i in itertools.count():\n",
    "#         yield start*multiplier**i\n",
    "\n",
    "\n",
    "# def stats_fn(sess, stats, step, lr):\n",
    "#     train_loss = sess.run(loss, feed_dict=train_args)\n",
    "#     stats.append([lr, train_loss])\n",
    "#     return (train_loss < 2*np.array(stats).min(axis=0)[1])\n",
    "\n",
    "\n",
    "# train_iter = input_fn(x_train, y_train, batch_size=batch_size, shuffle=True, num_epoch=num_epoch)\n",
    "# lr_iter = lr_fn(start_lr, multiplier)\n",
    "# _, lr_stats = run(train_iter, lr_iter, stats_fn)"
   ]
  },
  {
   "cell_type": "code",
   "execution_count": 14,
   "metadata": {},
   "outputs": [],
   "source": [
    "# lr_stats = np.array(lr_stats)\n",
    "# plt.ylabel('Loss')\n",
    "# plt.xlabel('Learning Rate')\n",
    "# plt.title('Learning Rate vs. Loss')\n",
    "# plt.tight_layout()\n",
    "# plt.plot(lr_stats[:, 0], lr_stats[:, 1])\n",
    "# plt.xscale('log')\n",
    "# plt.yscale('log')\n",
    "# plt.show()"
   ]
  },
  {
   "cell_type": "markdown",
   "metadata": {},
   "source": [
    "### Train model\n",
    "\n",
    "Use cyclical cosine annealing to periodically decrease learning rate over time"
   ]
  },
  {
   "cell_type": "code",
   "execution_count": 15,
   "metadata": {},
   "outputs": [
    {
     "name": "stdout",
     "output_type": "stream",
     "text": [
      "Accuracy:  0.875\n",
      "AUC:  0.9458868\n",
      "             precision    recall  f1-score   support\n",
      "\n",
      "        0.0       0.87      0.89      0.88     12500\n",
      "        1.0       0.88      0.86      0.87     12500\n",
      "\n",
      "avg / total       0.88      0.88      0.87     25000\n",
      "\n"
     ]
    }
   ],
   "source": [
    "start_lr = 0.1\n",
    "end_lr = 0.01\n",
    "batch_size = 10\n",
    "cycle_len = 1 # length in epochs\n",
    "num_batch_per_cycle = math.ceil(len(y_train)*cycle_len/batch_size)\n",
    "\n",
    "\n",
    "def lr_fn(start, end, num_step):\n",
    "    avg = (start - end)/2\n",
    "    cycle = [avg*(1 + np.cos(np.pi*i/(num_step-1))) + end for i in range(num_step)]\n",
    "    return itertools.cycle(cycle)\n",
    "\n",
    "\n",
    "def stats_fn(sess, stats, step, lr):\n",
    "    train_loss = sess.run(loss, feed_dict=train_args)\n",
    "    test_loss = sess.run(loss, feed_dict=test_args)\n",
    "    stats.append([step, train_loss, test_loss])\n",
    "    \n",
    "    if step >= 75:\n",
    "        all_test_loss = np.array(stats)[:, 2]\n",
    "        return not all(all_test_loss[-25:] > all_test_loss.min())\n",
    "    \n",
    "    return True\n",
    "\n",
    "\n",
    "train_iter = input_fn(x_train, y_train, batch_size=batch_size, shuffle=True)\n",
    "lr_iter = lr_fn(start_lr, end_lr, num_batch_per_cycle)\n",
    "sess, stats = run(train_iter, lr_iter, stats_fn)\n",
    "\n",
    "y_test_pred_class, y_test_pred_prob = sess.run((pred_class, pred_prob), feed_dict=test_args)\n",
    "\n",
    "print(\"Accuracy: \", accuracy_score(y_test, y_test_pred_class))\n",
    "print(\"AUC: \", roc_auc_score(y_test, y_test_pred_prob[:, 1]))\n",
    "print(classification_report(y_test, y_test_pred_class))"
   ]
  },
  {
   "cell_type": "code",
   "execution_count": 16,
   "metadata": {},
   "outputs": [
    {
     "data": {
      "image/png": "[encoded data removed]",
      "text/plain": [
       "<Figure size 432x288 with 1 Axes>"
      ]
     },
     "metadata": {},
     "output_type": "display_data"
    }
   ],
   "source": [
    "stats = np.array(stats)\n",
    "plt.ylabel('Loss')\n",
    "plt.xlabel('Steps')\n",
    "plt.title('Loss by Step')\n",
    "plt.tight_layout()\n",
    "plt.plot(stats[:, 1], label='Train')\n",
    "plt.plot(stats[:, 2], label='Test')\n",
    "plt.legend()\n",
    "plt.show()"
   ]
  }
 ],
 "metadata": {
  "kernelspec": {
   "display_name": "Python 3",
   "language": "python",
   "name": "python3"
  },
  "language_info": {
   "codemirror_mode": {
    "name": "ipython",
    "version": 3
   },
   "file_extension": ".py",
   "mimetype": "text/x-python",
   "name": "python",
   "nbconvert_exporter": "python",
   "pygments_lexer": "ipython3",
   "version": "3.6.5"
  }
 },
 "nbformat": 4,
 "nbformat_minor": 2
}
