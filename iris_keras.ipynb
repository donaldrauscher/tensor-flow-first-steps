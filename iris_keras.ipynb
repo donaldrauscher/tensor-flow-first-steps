{
 "cells": [
  {
   "cell_type": "code",
   "execution_count": 1,
   "metadata": {},
   "outputs": [],
   "source": [
    "import warnings\n",
    "warnings.filterwarnings(\"ignore\")"
   ]
  },
  {
   "cell_type": "code",
   "execution_count": 2,
   "metadata": {},
   "outputs": [],
   "source": [
    "import numpy as np\n",
    "import pandas as pd\n",
    "\n",
    "import tensorflow as tf\n",
    "import h5py\n",
    "\n",
    "from matplotlib import pyplot as plt\n",
    "\n",
    "from sklearn.metrics import confusion_matrix\n",
    "\n",
    "from iris_data import x_train, y_train, x_test, y_test, SPECIES"
   ]
  },
  {
   "cell_type": "code",
   "execution_count": 3,
   "metadata": {},
   "outputs": [],
   "source": [
    "np.random.seed(1)\n",
    "tf.set_random_seed(1)"
   ]
  },
  {
   "cell_type": "code",
   "execution_count": 4,
   "metadata": {},
   "outputs": [],
   "source": [
    "# construct model\n",
    "model = tf.keras.Sequential()\n",
    "model.add(tf.keras.layers.Dense(2))\n",
    "model.add(tf.keras.layers.Dense(len(SPECIES), activation='softmax'))\n",
    "\n",
    "model.compile(optimizer=tf.keras.optimizers.Adagrad(lr=0.1),\n",
    "              loss='sparse_categorical_crossentropy',\n",
    "              metrics=['sparse_categorical_accuracy'])"
   ]
  },
  {
   "cell_type": "code",
   "execution_count": 5,
   "metadata": {},
   "outputs": [
    {
     "name": "stdout",
     "output_type": "stream",
     "text": [
      "Train on 120 samples, validate on 30 samples\n",
      "Epoch 1/100\n",
      "120/120 [==============================] - 0s 1ms/step - loss: 0.8471 - sparse_categorical_accuracy: 0.6583 - val_loss: 0.5185 - val_sparse_categorical_accuracy: 0.8000\n",
      "Epoch 2/100\n",
      "120/120 [==============================] - 0s 80us/step - loss: 0.4453 - sparse_categorical_accuracy: 0.7833 - val_loss: 0.5205 - val_sparse_categorical_accuracy: 0.5667\n",
      "Epoch 3/100\n",
      "120/120 [==============================] - 0s 78us/step - loss: 0.4206 - sparse_categorical_accuracy: 0.7833 - val_loss: 0.4878 - val_sparse_categorical_accuracy: 0.6000\n",
      "Epoch 4/100\n",
      "120/120 [==============================] - 0s 75us/step - loss: 0.3908 - sparse_categorical_accuracy: 0.8000 - val_loss: 0.4432 - val_sparse_categorical_accuracy: 0.8000\n",
      "Epoch 5/100\n",
      "120/120 [==============================] - 0s 81us/step - loss: 0.3737 - sparse_categorical_accuracy: 0.8333 - val_loss: 0.4831 - val_sparse_categorical_accuracy: 0.5667\n",
      "Epoch 6/100\n",
      "120/120 [==============================] - 0s 74us/step - loss: 0.3562 - sparse_categorical_accuracy: 0.8500 - val_loss: 0.3893 - val_sparse_categorical_accuracy: 0.9333\n",
      "Epoch 7/100\n",
      "120/120 [==============================] - 0s 98us/step - loss: 0.3587 - sparse_categorical_accuracy: 0.8583 - val_loss: 0.4428 - val_sparse_categorical_accuracy: 0.7333\n",
      "Epoch 8/100\n",
      "120/120 [==============================] - 0s 111us/step - loss: 0.3429 - sparse_categorical_accuracy: 0.9000 - val_loss: 0.3962 - val_sparse_categorical_accuracy: 0.8000\n",
      "Epoch 9/100\n",
      "120/120 [==============================] - 0s 100us/step - loss: 0.3371 - sparse_categorical_accuracy: 0.8583 - val_loss: 0.3472 - val_sparse_categorical_accuracy: 0.9333\n",
      "Epoch 10/100\n",
      "120/120 [==============================] - 0s 80us/step - loss: 0.3412 - sparse_categorical_accuracy: 0.8667 - val_loss: 0.4149 - val_sparse_categorical_accuracy: 0.7667\n",
      "Epoch 11/100\n",
      "120/120 [==============================] - 0s 83us/step - loss: 0.3140 - sparse_categorical_accuracy: 0.8750 - val_loss: 0.3410 - val_sparse_categorical_accuracy: 0.9667\n",
      "Epoch 12/100\n",
      "120/120 [==============================] - 0s 97us/step - loss: 0.2994 - sparse_categorical_accuracy: 0.9083 - val_loss: 0.3336 - val_sparse_categorical_accuracy: 0.9667\n",
      "Epoch 13/100\n",
      "120/120 [==============================] - 0s 83us/step - loss: 0.2948 - sparse_categorical_accuracy: 0.9167 - val_loss: 0.3762 - val_sparse_categorical_accuracy: 0.8000\n",
      "Epoch 14/100\n",
      "120/120 [==============================] - 0s 81us/step - loss: 0.2980 - sparse_categorical_accuracy: 0.8833 - val_loss: 0.3134 - val_sparse_categorical_accuracy: 0.9667\n",
      "Epoch 15/100\n",
      "120/120 [==============================] - 0s 93us/step - loss: 0.2785 - sparse_categorical_accuracy: 0.9417 - val_loss: 0.3526 - val_sparse_categorical_accuracy: 0.8667\n",
      "Epoch 16/100\n",
      "120/120 [==============================] - 0s 89us/step - loss: 0.2659 - sparse_categorical_accuracy: 0.9250 - val_loss: 0.2978 - val_sparse_categorical_accuracy: 0.9667\n",
      "Epoch 17/100\n",
      "120/120 [==============================] - 0s 87us/step - loss: 0.2649 - sparse_categorical_accuracy: 0.9417 - val_loss: 0.3251 - val_sparse_categorical_accuracy: 0.9000\n",
      "Epoch 18/100\n",
      "120/120 [==============================] - 0s 100us/step - loss: 0.2690 - sparse_categorical_accuracy: 0.9333 - val_loss: 0.2977 - val_sparse_categorical_accuracy: 0.9667\n",
      "Epoch 19/100\n",
      "120/120 [==============================] - 0s 103us/step - loss: 0.2630 - sparse_categorical_accuracy: 0.9250 - val_loss: 0.2568 - val_sparse_categorical_accuracy: 0.9667\n",
      "Epoch 20/100\n",
      "120/120 [==============================] - 0s 91us/step - loss: 0.2550 - sparse_categorical_accuracy: 0.9167 - val_loss: 0.2701 - val_sparse_categorical_accuracy: 0.9667\n",
      "Epoch 21/100\n",
      "120/120 [==============================] - 0s 91us/step - loss: 0.2346 - sparse_categorical_accuracy: 0.9583 - val_loss: 0.2464 - val_sparse_categorical_accuracy: 0.9667\n"
     ]
    }
   ],
   "source": [
    "# train\n",
    "early_stopping = tf.keras.callbacks.EarlyStopping(monitor='val_sparse_categorical_accuracy', patience=10)\n",
    "\n",
    "history = model.fit(x_train, y_train, \n",
    "                    validation_data=(x_test, y_test), \n",
    "                    batch_size=10, epochs=100, shuffle=True,\n",
    "                    callbacks=[early_stopping])"
   ]
  },
  {
   "cell_type": "code",
   "execution_count": 6,
   "metadata": {},
   "outputs": [
    {
     "data": {
      "image/png": "[encoded data removed]",
      "text/plain": [
       "<Figure size 432x288 with 1 Axes>"
      ]
     },
     "metadata": {},
     "output_type": "display_data"
    }
   ],
   "source": [
    "# graph of loss metrics over time\n",
    "plt.ylabel('Test Accuracy')\n",
    "plt.xlabel('Epochs')\n",
    "plt.title('Test Accuracy vs. Epochs')\n",
    "plt.tight_layout()\n",
    "plt.plot(history.history['val_sparse_categorical_accuracy'], label='Accuracy')\n",
    "plt.legend()\n",
    "plt.show()"
   ]
  },
  {
   "cell_type": "code",
   "execution_count": 7,
   "metadata": {},
   "outputs": [
    {
     "data": {
      "text/plain": [
       "array([[ 8,  0,  0],\n",
       "       [ 0, 13,  1],\n",
       "       [ 0,  0,  8]])"
      ]
     },
     "execution_count": 7,
     "metadata": {},
     "output_type": "execute_result"
    }
   ],
   "source": [
    "# confusion matrix\n",
    "y_test_pred = np.argmax(model.predict(x_test), axis=1)\n",
    "confusion_matrix(y_test, y_test_pred)"
   ]
  },
  {
   "cell_type": "code",
   "execution_count": 8,
   "metadata": {},
   "outputs": [],
   "source": [
    "# export\n",
    "tf.keras.models.save_model(model, 'models/iris_keras.h5', overwrite=True, include_optimizer=True)"
   ]
  },
  {
   "cell_type": "code",
   "execution_count": 9,
   "metadata": {},
   "outputs": [],
   "source": [
    "# test import\n",
    "del model\n",
    "model = tf.keras.models.load_model('models/iris_keras.h5')\n",
    "y_test_pred2 = np.argmax(model.predict(x_test), axis=1)\n",
    "assert np.array_equal(y_test_pred, y_test_pred2)"
   ]
  }
 ],
 "metadata": {
  "kernelspec": {
   "display_name": "Python 3",
   "language": "python",
   "name": "python3"
  },
  "language_info": {
   "codemirror_mode": {
    "name": "ipython",
    "version": 3
   },
   "file_extension": ".py",
   "mimetype": "text/x-python",
   "name": "python",
   "nbconvert_exporter": "python",
   "pygments_lexer": "ipython3",
   "version": "3.6.5"
  }
 },
 "nbformat": 4,
 "nbformat_minor": 2
}
