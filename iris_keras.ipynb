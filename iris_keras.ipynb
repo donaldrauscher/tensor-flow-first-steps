{
 "cells": [
  {
   "cell_type": "code",
   "execution_count": 1,
   "metadata": {},
   "outputs": [],
   "source": [
    "import warnings\n",
    "warnings.filterwarnings(\"ignore\")"
   ]
  },
  {
   "cell_type": "code",
   "execution_count": 2,
   "metadata": {},
   "outputs": [],
   "source": [
    "import numpy as np\n",
    "import pandas as pd\n",
    "import tensorflow as tf\n",
    "from matplotlib import pyplot as plt\n",
    "from sklearn.metrics import confusion_matrix"
   ]
  },
  {
   "cell_type": "code",
   "execution_count": 3,
   "metadata": {},
   "outputs": [],
   "source": [
    "np.random.seed(1)\n",
    "tf.set_random_seed(1)"
   ]
  },
  {
   "cell_type": "code",
   "execution_count": 4,
   "metadata": {},
   "outputs": [],
   "source": [
    "# load data\n",
    "TRAIN_URL = \"http://download.tensorflow.org/data/iris_training.csv\"\n",
    "TEST_URL = \"http://download.tensorflow.org/data/iris_test.csv\"\n",
    "\n",
    "CSV_COLUMN_NAMES = ['SepalLength', 'SepalWidth', 'PetalLength', 'PetalWidth', 'Species']\n",
    "SPECIES = ['Setosa', 'Versicolor', 'Virginica']\n",
    "\n",
    "train = pd.read_csv(TRAIN_URL, header=0, names=CSV_COLUMN_NAMES)\n",
    "test = pd.read_csv(TEST_URL, header=0, names=CSV_COLUMN_NAMES)\n",
    "\n",
    "x_train = train[['SepalLength', 'SepalWidth', 'PetalLength', 'PetalWidth']].values\n",
    "y_train = train[['Species']].values\n",
    "\n",
    "x_test = test[['SepalLength', 'SepalWidth', 'PetalLength', 'PetalWidth']].values\n",
    "y_test = test[['Species']].values"
   ]
  },
  {
   "cell_type": "code",
   "execution_count": 5,
   "metadata": {},
   "outputs": [],
   "source": [
    "# construct model\n",
    "model = tf.keras.Sequential()\n",
    "model.add(tf.keras.layers.InputLayer((4,)))\n",
    "model.add(tf.keras.layers.Dense(2))\n",
    "model.add(tf.keras.layers.Dense(len(SPECIES), activation='softmax'))\n",
    "\n",
    "model.compile(optimizer=tf.train.AdagradOptimizer(learning_rate=0.1),\n",
    "              loss='sparse_categorical_crossentropy',\n",
    "              metrics=['sparse_categorical_accuracy'])"
   ]
  },
  {
   "cell_type": "code",
   "execution_count": 6,
   "metadata": {},
   "outputs": [
    {
     "name": "stdout",
     "output_type": "stream",
     "text": [
      "Train on 120 samples, validate on 30 samples\n",
      "Epoch 1/100\n",
      "120/120 [==============================] - 0s 665us/step - loss: 1.2388 - sparse_categorical_accuracy: 0.4167 - val_loss: 0.8739 - val_sparse_categorical_accuracy: 0.5333\n",
      "Epoch 2/100\n",
      "120/120 [==============================] - 0s 67us/step - loss: 0.5396 - sparse_categorical_accuracy: 0.8417 - val_loss: 0.5471 - val_sparse_categorical_accuracy: 0.7000\n",
      "Epoch 3/100\n",
      "120/120 [==============================] - 0s 73us/step - loss: 0.4382 - sparse_categorical_accuracy: 0.8333 - val_loss: 0.4643 - val_sparse_categorical_accuracy: 0.8667\n",
      "Epoch 4/100\n",
      "120/120 [==============================] - 0s 61us/step - loss: 0.3877 - sparse_categorical_accuracy: 0.8500 - val_loss: 0.4222 - val_sparse_categorical_accuracy: 0.9000\n",
      "Epoch 5/100\n",
      "120/120 [==============================] - 0s 63us/step - loss: 0.3515 - sparse_categorical_accuracy: 0.9083 - val_loss: 0.4680 - val_sparse_categorical_accuracy: 0.7000\n",
      "Epoch 6/100\n",
      "120/120 [==============================] - 0s 70us/step - loss: 0.3277 - sparse_categorical_accuracy: 0.9167 - val_loss: 0.3402 - val_sparse_categorical_accuracy: 0.9667\n",
      "Epoch 7/100\n",
      "120/120 [==============================] - 0s 62us/step - loss: 0.3185 - sparse_categorical_accuracy: 0.9333 - val_loss: 0.3783 - val_sparse_categorical_accuracy: 0.8667\n",
      "Epoch 8/100\n",
      "120/120 [==============================] - 0s 82us/step - loss: 0.2963 - sparse_categorical_accuracy: 0.9500 - val_loss: 0.3221 - val_sparse_categorical_accuracy: 0.9667\n",
      "Epoch 9/100\n",
      "120/120 [==============================] - 0s 75us/step - loss: 0.2824 - sparse_categorical_accuracy: 0.9500 - val_loss: 0.2783 - val_sparse_categorical_accuracy: 0.9667\n",
      "Epoch 10/100\n",
      "120/120 [==============================] - 0s 72us/step - loss: 0.2904 - sparse_categorical_accuracy: 0.9083 - val_loss: 0.3318 - val_sparse_categorical_accuracy: 0.9000\n",
      "Epoch 11/100\n",
      "120/120 [==============================] - 0s 67us/step - loss: 0.2537 - sparse_categorical_accuracy: 0.9500 - val_loss: 0.2658 - val_sparse_categorical_accuracy: 0.9667\n",
      "Epoch 12/100\n",
      "120/120 [==============================] - 0s 72us/step - loss: 0.2358 - sparse_categorical_accuracy: 0.9583 - val_loss: 0.2578 - val_sparse_categorical_accuracy: 0.9667\n",
      "Epoch 13/100\n",
      "120/120 [==============================] - 0s 71us/step - loss: 0.2322 - sparse_categorical_accuracy: 0.9583 - val_loss: 0.2864 - val_sparse_categorical_accuracy: 0.9000\n",
      "Epoch 14/100\n",
      "120/120 [==============================] - 0s 66us/step - loss: 0.2312 - sparse_categorical_accuracy: 0.9417 - val_loss: 0.2280 - val_sparse_categorical_accuracy: 0.9667\n",
      "Epoch 15/100\n",
      "120/120 [==============================] - 0s 73us/step - loss: 0.2114 - sparse_categorical_accuracy: 0.9750 - val_loss: 0.2669 - val_sparse_categorical_accuracy: 0.9000\n",
      "Epoch 16/100\n",
      "120/120 [==============================] - 0s 68us/step - loss: 0.1967 - sparse_categorical_accuracy: 0.9667 - val_loss: 0.2097 - val_sparse_categorical_accuracy: 0.9667\n"
     ]
    }
   ],
   "source": [
    "# train\n",
    "early_stopping = tf.keras.callbacks.EarlyStopping(monitor='val_sparse_categorical_accuracy', patience=10)\n",
    "\n",
    "history = model.fit(x_train, y_train, \n",
    "                    validation_data=(x_test, y_test), \n",
    "                    batch_size=10, epochs=100, shuffle=True,\n",
    "                    callbacks=[early_stopping])"
   ]
  },
  {
   "cell_type": "code",
   "execution_count": 7,
   "metadata": {},
   "outputs": [
    {
     "data": {
      "image/png": "[encoded data removed]",
      "text/plain": [
       "<Figure size 432x288 with 1 Axes>"
      ]
     },
     "metadata": {},
     "output_type": "display_data"
    }
   ],
   "source": [
    "# graph of loss metrics over time\n",
    "plt.ylabel('Test Accuracy')\n",
    "plt.xlabel('Epochs')\n",
    "plt.title('Test Accuracy vs. Epochs')\n",
    "plt.tight_layout()\n",
    "plt.plot(history.history['val_sparse_categorical_accuracy'], label='Accuracy')\n",
    "plt.legend()\n",
    "plt.show()"
   ]
  },
  {
   "cell_type": "code",
   "execution_count": 8,
   "metadata": {},
   "outputs": [
    {
     "data": {
      "text/plain": [
       "array([[ 8,  0,  0],\n",
       "       [ 0, 13,  1],\n",
       "       [ 0,  0,  8]])"
      ]
     },
     "execution_count": 8,
     "metadata": {},
     "output_type": "execute_result"
    }
   ],
   "source": [
    "# confusion matrix\n",
    "y_test_pred = np.argmax(model.predict(x_test), axis=1)\n",
    "confusion_matrix(y_test, y_test_pred)"
   ]
  }
 ],
 "metadata": {
  "kernelspec": {
   "display_name": "Python 3",
   "language": "python",
   "name": "python3"
  },
  "language_info": {
   "codemirror_mode": {
    "name": "ipython",
    "version": 3
   },
   "file_extension": ".py",
   "mimetype": "text/x-python",
   "name": "python",
   "nbconvert_exporter": "python",
   "pygments_lexer": "ipython3",
   "version": "3.6.5"
  }
 },
 "nbformat": 4,
 "nbformat_minor": 2
}
