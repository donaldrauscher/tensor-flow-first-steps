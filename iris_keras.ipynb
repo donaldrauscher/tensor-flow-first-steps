{
 "cells": [
  {
   "cell_type": "code",
   "execution_count": 1,
   "metadata": {},
   "outputs": [],
   "source": [
    "import warnings\n",
    "warnings.filterwarnings(\"ignore\")"
   ]
  },
  {
   "cell_type": "code",
   "execution_count": 2,
   "metadata": {},
   "outputs": [],
   "source": [
    "import numpy as np\n",
    "import pandas as pd\n",
    "\n",
    "from matplotlib import pyplot as plt\n",
    "\n",
    "import tensorflow as tf\n",
    "import h5py\n",
    "from sklearn.metrics import confusion_matrix\n",
    "\n",
    "from iris_data import train, x_train, y_train, \\\n",
    "                      test, x_test, y_test, \\\n",
    "                      SPECIES, LARGE"
   ]
  },
  {
   "cell_type": "code",
   "execution_count": 3,
   "metadata": {},
   "outputs": [],
   "source": [
    "np.random.seed(1)\n",
    "tf.set_random_seed(1)"
   ]
  },
  {
   "cell_type": "code",
   "execution_count": 4,
   "metadata": {},
   "outputs": [],
   "source": [
    "# construct model\n",
    "model = tf.keras.Sequential()\n",
    "model.add(tf.keras.layers.Dense(2))\n",
    "model.add(tf.keras.layers.Dense(len(SPECIES), activation='softmax'))\n",
    "\n",
    "model.compile(optimizer=tf.keras.optimizers.Adagrad(lr=0.1),\n",
    "              loss='sparse_categorical_crossentropy',\n",
    "              metrics=['sparse_categorical_accuracy'])"
   ]
  },
  {
   "cell_type": "code",
   "execution_count": 5,
   "metadata": {},
   "outputs": [
    {
     "name": "stdout",
     "output_type": "stream",
     "text": [
      "Train on 120 samples, validate on 30 samples\n",
      "Epoch 1/100\n",
      "120/120 [==============================] - 0s 2ms/step - loss: 0.6457 - sparse_categorical_accuracy: 0.7417 - val_loss: 0.4787 - val_sparse_categorical_accuracy: 0.7333\n",
      "Epoch 2/100\n",
      "120/120 [==============================] - 0s 823us/step - loss: 0.4086 - sparse_categorical_accuracy: 0.7833 - val_loss: 0.4288 - val_sparse_categorical_accuracy: 0.8000\n",
      "Epoch 3/100\n",
      "120/120 [==============================] - 0s 889us/step - loss: 0.3734 - sparse_categorical_accuracy: 0.8583 - val_loss: 0.4198 - val_sparse_categorical_accuracy: 0.8000\n",
      "Epoch 4/100\n",
      "120/120 [==============================] - 0s 895us/step - loss: 0.3472 - sparse_categorical_accuracy: 0.8583 - val_loss: 0.3821 - val_sparse_categorical_accuracy: 0.9000\n",
      "Epoch 5/100\n",
      "120/120 [==============================] - 0s 880us/step - loss: 0.3275 - sparse_categorical_accuracy: 0.8917 - val_loss: 0.3929 - val_sparse_categorical_accuracy: 0.8000\n",
      "Epoch 6/100\n",
      "120/120 [==============================] - 0s 822us/step - loss: 0.3036 - sparse_categorical_accuracy: 0.9167 - val_loss: 0.3109 - val_sparse_categorical_accuracy: 0.9333\n",
      "Epoch 7/100\n",
      "120/120 [==============================] - 0s 816us/step - loss: 0.2942 - sparse_categorical_accuracy: 0.9000 - val_loss: 0.3668 - val_sparse_categorical_accuracy: 0.8000\n",
      "Epoch 8/100\n",
      "120/120 [==============================] - 0s 797us/step - loss: 0.2887 - sparse_categorical_accuracy: 0.9167 - val_loss: 0.2982 - val_sparse_categorical_accuracy: 0.9667\n",
      "Epoch 9/100\n",
      "120/120 [==============================] - 0s 806us/step - loss: 0.2665 - sparse_categorical_accuracy: 0.9500 - val_loss: 0.2690 - val_sparse_categorical_accuracy: 0.9333\n",
      "Epoch 10/100\n",
      "120/120 [==============================] - 0s 839us/step - loss: 0.2560 - sparse_categorical_accuracy: 0.9500 - val_loss: 0.3512 - val_sparse_categorical_accuracy: 0.8333\n",
      "Epoch 11/100\n",
      "120/120 [==============================] - 0s 1ms/step - loss: 0.2540 - sparse_categorical_accuracy: 0.9417 - val_loss: 0.2536 - val_sparse_categorical_accuracy: 0.9667\n",
      "Epoch 12/100\n",
      "120/120 [==============================] - 0s 895us/step - loss: 0.2429 - sparse_categorical_accuracy: 0.9667 - val_loss: 0.2568 - val_sparse_categorical_accuracy: 0.9667\n",
      "Epoch 13/100\n",
      "120/120 [==============================] - 0s 1ms/step - loss: 0.2224 - sparse_categorical_accuracy: 0.9417 - val_loss: 0.2827 - val_sparse_categorical_accuracy: 0.9000\n",
      "Epoch 14/100\n",
      "120/120 [==============================] - 0s 1ms/step - loss: 0.2233 - sparse_categorical_accuracy: 0.9750 - val_loss: 0.2254 - val_sparse_categorical_accuracy: 0.9667\n",
      "Epoch 15/100\n",
      "120/120 [==============================] - 0s 1ms/step - loss: 0.2138 - sparse_categorical_accuracy: 0.9500 - val_loss: 0.2681 - val_sparse_categorical_accuracy: 0.9333\n",
      "Epoch 16/100\n",
      "120/120 [==============================] - 0s 1ms/step - loss: 0.2077 - sparse_categorical_accuracy: 0.9500 - val_loss: 0.2182 - val_sparse_categorical_accuracy: 0.9667\n",
      "Epoch 17/100\n",
      "120/120 [==============================] - 0s 1ms/step - loss: 0.1997 - sparse_categorical_accuracy: 0.9667 - val_loss: 0.2529 - val_sparse_categorical_accuracy: 0.9667\n",
      "Epoch 18/100\n",
      "120/120 [==============================] - 0s 1ms/step - loss: 0.1925 - sparse_categorical_accuracy: 0.9500 - val_loss: 0.2168 - val_sparse_categorical_accuracy: 0.9667\n"
     ]
    }
   ],
   "source": [
    "# train\n",
    "early_stopping = tf.keras.callbacks.EarlyStopping(monitor='val_sparse_categorical_accuracy', patience=10)\n",
    "\n",
    "history = model.fit(x_train, y_train, \n",
    "                    validation_data=(x_test, y_test), \n",
    "                    batch_size=1, epochs=100, shuffle=True,\n",
    "                    callbacks=[early_stopping])"
   ]
  },
  {
   "cell_type": "code",
   "execution_count": 6,
   "metadata": {},
   "outputs": [
    {
     "data": {
      "image/png": "[encoded data removed]",
      "text/plain": [
       "<Figure size 432x288 with 1 Axes>"
      ]
     },
     "metadata": {},
     "output_type": "display_data"
    }
   ],
   "source": [
    "# graph of loss metrics over time\n",
    "plt.ylabel('Test Accuracy')\n",
    "plt.xlabel('Epochs')\n",
    "plt.title('Test Accuracy vs. Epochs')\n",
    "plt.tight_layout()\n",
    "plt.plot(history.history['val_sparse_categorical_accuracy'], label='Accuracy')\n",
    "plt.legend()\n",
    "plt.show()"
   ]
  },
  {
   "cell_type": "code",
   "execution_count": 7,
   "metadata": {},
   "outputs": [
    {
     "data": {
      "text/plain": [
       "array([[ 8,  0,  0],\n",
       "       [ 0, 13,  1],\n",
       "       [ 0,  0,  8]])"
      ]
     },
     "execution_count": 7,
     "metadata": {},
     "output_type": "execute_result"
    }
   ],
   "source": [
    "# confusion matrix\n",
    "y_test_pred = np.argmax(model.predict(x_test), axis=1)\n",
    "confusion_matrix(y_test, y_test_pred)"
   ]
  },
  {
   "cell_type": "code",
   "execution_count": 8,
   "metadata": {},
   "outputs": [],
   "source": [
    "# export\n",
    "tf.keras.models.save_model(model, 'models/iris_keras.h5', overwrite=True, include_optimizer=True)"
   ]
  },
  {
   "cell_type": "code",
   "execution_count": 9,
   "metadata": {},
   "outputs": [],
   "source": [
    "# test import\n",
    "del model\n",
    "model = tf.keras.models.load_model('models/iris_keras.h5')\n",
    "y_test_pred2 = np.argmax(model.predict(x_test), axis=1)\n",
    "assert np.array_equal(y_test_pred, y_test_pred2)"
   ]
  }
 ],
 "metadata": {
  "kernelspec": {
   "display_name": "Python 3",
   "language": "python",
   "name": "python3"
  },
  "language_info": {
   "codemirror_mode": {
    "name": "ipython",
    "version": 3
   },
   "file_extension": ".py",
   "mimetype": "text/x-python",
   "name": "python",
   "nbconvert_exporter": "python",
   "pygments_lexer": "ipython3",
   "version": "3.6.5"
  }
 },
 "nbformat": 4,
 "nbformat_minor": 2
}
