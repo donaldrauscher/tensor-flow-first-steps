{
 "cells": [
  {
   "cell_type": "code",
   "execution_count": 1,
   "metadata": {},
   "outputs": [],
   "source": [
    "import warnings\n",
    "warnings.filterwarnings(\"ignore\")"
   ]
  },
  {
   "cell_type": "code",
   "execution_count": 2,
   "metadata": {},
   "outputs": [],
   "source": [
    "import numpy as np\n",
    "import pandas as pd\n",
    "import tensorflow as tf\n",
    "from matplotlib import pyplot as plt\n",
    "from sklearn.metrics import confusion_matrix"
   ]
  },
  {
   "cell_type": "code",
   "execution_count": 3,
   "metadata": {},
   "outputs": [],
   "source": [
    "np.random.seed(1)"
   ]
  },
  {
   "cell_type": "code",
   "execution_count": 4,
   "metadata": {},
   "outputs": [],
   "source": [
    "# load data\n",
    "LARGE = 10000 # arbitrarily large number\n",
    "\n",
    "TRAIN_URL = \"http://download.tensorflow.org/data/iris_training.csv\"\n",
    "TEST_URL = \"http://download.tensorflow.org/data/iris_test.csv\"\n",
    "\n",
    "CSV_COLUMN_NAMES = ['SepalLength', 'SepalWidth', 'PetalLength', 'PetalWidth', 'Species']\n",
    "SPECIES = ['Setosa', 'Versicolor', 'Virginica']\n",
    "\n",
    "train = pd.read_csv(TRAIN_URL, header=0, names=CSV_COLUMN_NAMES)\n",
    "test = pd.read_csv(TEST_URL, header=0, names=CSV_COLUMN_NAMES)"
   ]
  },
  {
   "cell_type": "code",
   "execution_count": 5,
   "metadata": {},
   "outputs": [],
   "source": [
    "# construct inputs\n",
    "col = [\n",
    "    tf.feature_column.numeric_column('SepalLength'), \n",
    "    tf.feature_column.numeric_column('SepalWidth'), \n",
    "    tf.feature_column.numeric_column('PetalLength'), \n",
    "    tf.feature_column.numeric_column('PetalWidth'),\n",
    "]\n",
    "\n",
    "def input_fn(df, batch_size=1, shuffle=True, num_epochs=None):\n",
    "    features = df.to_dict(orient='list')\n",
    "    features = {k: np.array(v) for k, v in features.items()}\n",
    "    try:\n",
    "        labels = features['Species']\n",
    "        del features['Species']\n",
    "        ds = tf.data.Dataset.from_tensor_slices((features, labels))\n",
    "    except KeyError:\n",
    "        ds = tf.data.Dataset.from_tensor_slices(features)\n",
    "\n",
    "    if shuffle:\n",
    "        ds = ds.shuffle(buffer_size=LARGE)\n",
    "    \n",
    "    ds = ds.repeat(num_epochs).batch(batch_size)\n",
    "    return ds.make_one_shot_iterator().get_next()\n",
    "\n",
    "def run_input_fn(iterator, sess):\n",
    "    features, labels = sess.run(iterator)\n",
    "    x = tf.feature_column.input_layer(features, col).eval(session=sess)\n",
    "    y = labels.reshape(-1, 1)\n",
    "    return x, y\n",
    "\n",
    "    \n",
    "sess = tf.Session()\n",
    "\n",
    "train_iterator = input_fn(train, batch_size=10, shuffle=True, num_epochs=20)\n",
    "test_iterator = input_fn(test, batch_size=LARGE, shuffle=False, num_epochs=1)\n",
    "\n",
    "x_test, y_test = run_input_fn(test_iterator, sess)"
   ]
  },
  {
   "cell_type": "code",
   "execution_count": 6,
   "metadata": {},
   "outputs": [],
   "source": [
    "# construct graph\n",
    "x = tf.placeholder(tf.float32, shape=[None, 4])\n",
    "y = tf.placeholder(tf.int32, shape=[None, 1])\n",
    "\n",
    "hidden1_layer = tf.layers.Dense(units=10, activation=tf.nn.relu)\n",
    "hidden2_layer = tf.layers.Dense(units=10, activation=tf.nn.relu)\n",
    "logit_layer = tf.layers.Dense(units=len(SPECIES))\n",
    "\n",
    "hidden1 = hidden1_layer(x)\n",
    "hidden2 = hidden2_layer(hidden1)\n",
    "logits = logit_layer(hidden2)\n",
    "\n",
    "pred_class = tf.argmax(logits, 1)\n",
    "pred_prob = tf.nn.softmax(logits)\n",
    "\n",
    "loss = tf.losses.sparse_softmax_cross_entropy(labels=y, logits=logits)\n",
    "_, accuracy = tf.metrics.accuracy(labels=y, predictions=pred_class)\n",
    "\n",
    "optimizer = tf.train.AdagradOptimizer(learning_rate=0.1)\n",
    "\n",
    "train_op = optimizer.minimize(loss)"
   ]
  },
  {
   "cell_type": "code",
   "execution_count": 7,
   "metadata": {},
   "outputs": [],
   "source": [
    "# train\n",
    "var_init = (tf.global_variables_initializer(), tf.local_variables_initializer())\n",
    "sess.run(var_init)\n",
    "\n",
    "stats = []\n",
    "\n",
    "while True:\n",
    "    try:\n",
    "        x_train, y_train = run_input_fn(train_iterator, sess)\n",
    "        \n",
    "        sess.run(train_op, feed_dict={x: x_train, y: y_train})\n",
    "        \n",
    "        loss_value, accuracy_value = sess.run((loss, accuracy), feed_dict={x: x_test, y: y_test})\n",
    "        stats += [[loss_value, accuracy_value]]\n",
    "    except tf.errors.OutOfRangeError:\n",
    "        break"
   ]
  },
  {
   "cell_type": "code",
   "execution_count": 8,
   "metadata": {},
   "outputs": [
    {
     "data": {
      "image/png": "[encoded data removed]",
      "text/plain": [
       "<Figure size 432x288 with 1 Axes>"
      ]
     },
     "metadata": {},
     "output_type": "display_data"
    }
   ],
   "source": [
    "# graph of loss metrics over periods\n",
    "stats = np.array(stats)\n",
    "plt.ylabel('Accuracy')\n",
    "plt.xlabel('Batches')\n",
    "plt.title(\"Accuracy vs. Batches\")\n",
    "plt.tight_layout()\n",
    "plt.plot(stats[:, 1], label='Accuracy')\n",
    "plt.legend()\n",
    "plt.show()"
   ]
  },
  {
   "cell_type": "code",
   "execution_count": 9,
   "metadata": {},
   "outputs": [
    {
     "data": {
      "text/plain": [
       "array([[ 8,  0,  0],\n",
       "       [ 0, 13,  1],\n",
       "       [ 0,  0,  8]])"
      ]
     },
     "execution_count": 9,
     "metadata": {},
     "output_type": "execute_result"
    }
   ],
   "source": [
    "# confusion matrix\n",
    "y_pred = sess.run(pred_class, feed_dict={x: x_test, y: y_test})\n",
    "confusion_matrix(y_test, y_pred)"
   ]
  }
 ],
 "metadata": {
  "kernelspec": {
   "display_name": "Python 3",
   "language": "python",
   "name": "python3"
  },
  "language_info": {
   "codemirror_mode": {
    "name": "ipython",
    "version": 3
   },
   "file_extension": ".py",
   "mimetype": "text/x-python",
   "name": "python",
   "nbconvert_exporter": "python",
   "pygments_lexer": "ipython3",
   "version": "3.6.5"
  }
 },
 "nbformat": 4,
 "nbformat_minor": 2
}
