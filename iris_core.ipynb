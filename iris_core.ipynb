{
 "cells": [
  {
   "cell_type": "code",
   "execution_count": 1,
   "metadata": {},
   "outputs": [],
   "source": [
    "import warnings\n",
    "warnings.filterwarnings(\"ignore\")"
   ]
  },
  {
   "cell_type": "code",
   "execution_count": 2,
   "metadata": {},
   "outputs": [],
   "source": [
    "import numpy as np\n",
    "import pandas as pd\n",
    "\n",
    "from matplotlib import pyplot as plt\n",
    "\n",
    "import tensorflow as tf\n",
    "from sklearn.metrics import confusion_matrix, accuracy_score\n",
    "\n",
    "from iris_data import train, x_train, y_train, \\\n",
    "                      test, x_test, y_test, \\\n",
    "                      SPECIES, LARGE"
   ]
  },
  {
   "cell_type": "code",
   "execution_count": 3,
   "metadata": {},
   "outputs": [],
   "source": [
    "tf.set_random_seed(1)"
   ]
  },
  {
   "cell_type": "code",
   "execution_count": 4,
   "metadata": {},
   "outputs": [],
   "source": [
    "# construct inputs\n",
    "def input_fn(df, batch_size=1, shuffle=True, num_epochs=None):\n",
    "    x = test[['SepalLength', 'SepalWidth', 'PetalLength', 'PetalWidth']].values\n",
    "    y = test[['Species']].values.reshape(-1, 1)\n",
    "    \n",
    "    ds = tf.data.Dataset.from_tensor_slices((x, y))\n",
    "\n",
    "    if shuffle:\n",
    "        ds = ds.shuffle(buffer_size=LARGE)\n",
    "    \n",
    "    ds = ds.repeat(num_epochs).batch(batch_size)\n",
    "\n",
    "    return ds.make_one_shot_iterator().get_next()\n",
    "    \n",
    "train_iterator = input_fn(train, batch_size=1, shuffle=True, num_epochs=20)\n",
    "test_iterator = input_fn(test, batch_size=LARGE, shuffle=False, num_epochs=1)"
   ]
  },
  {
   "cell_type": "code",
   "execution_count": 5,
   "metadata": {},
   "outputs": [],
   "source": [
    "# construct graph\n",
    "x = tf.placeholder(tf.float32, shape=[None, 4])\n",
    "y = tf.placeholder(tf.int32, shape=[None, 1])\n",
    "\n",
    "hidden_layer = tf.layers.Dense(units=2)\n",
    "logit_layer = tf.layers.Dense(units=len(SPECIES))\n",
    "\n",
    "hidden = hidden_layer(x)\n",
    "logits = logit_layer(hidden)\n",
    "\n",
    "pred_class = tf.argmax(logits, 1)\n",
    "pred_prob = tf.nn.softmax(logits)\n",
    "\n",
    "loss = tf.losses.sparse_softmax_cross_entropy(labels=y, logits=logits)\n",
    "\n",
    "optimizer = tf.train.AdagradOptimizer(learning_rate=0.1)\n",
    "\n",
    "train_op = optimizer.minimize(loss)"
   ]
  },
  {
   "cell_type": "code",
   "execution_count": 6,
   "metadata": {},
   "outputs": [],
   "source": [
    "# train\n",
    "sess = tf.Session()\n",
    "saver = tf.train.Saver()\n",
    "\n",
    "var_init = tf.global_variables_initializer()\n",
    "sess.run(var_init)\n",
    "\n",
    "x_test, y_test = sess.run(test_iterator)\n",
    "\n",
    "stats = []\n",
    "\n",
    "while True:\n",
    "    try:\n",
    "        x_train, y_train = sess.run(train_iterator)\n",
    "        \n",
    "        sess.run(train_op, feed_dict={x: x_train, y: y_train})\n",
    "        \n",
    "        y_test_pred = sess.run(pred_class, feed_dict={x: x_test, y: y_test})\n",
    "        stats.append(accuracy_score(y_test, y_test_pred))\n",
    "    except tf.errors.OutOfRangeError:\n",
    "        break"
   ]
  },
  {
   "cell_type": "code",
   "execution_count": 7,
   "metadata": {},
   "outputs": [
    {
     "data": {
      "text/plain": [
       "'models/iris_core'"
      ]
     },
     "execution_count": 7,
     "metadata": {},
     "output_type": "execute_result"
    }
   ],
   "source": [
    "# save\n",
    "tf.add_to_collection('x', x)\n",
    "tf.add_to_collection('y', y)\n",
    "tf.add_to_collection('pred_class', pred_class)\n",
    "tf.add_to_collection('pred_prob', pred_prob)\n",
    "saver.save(sess, 'models/iris_core')"
   ]
  },
  {
   "cell_type": "code",
   "execution_count": 8,
   "metadata": {},
   "outputs": [
    {
     "data": {
      "image/png": "[encoded data removed]",
      "text/plain": [
       "<Figure size 432x288 with 1 Axes>"
      ]
     },
     "metadata": {},
     "output_type": "display_data"
    }
   ],
   "source": [
    "# graph of loss metrics over periods\n",
    "stats = np.array(stats)\n",
    "plt.ylabel('Test Accuracy')\n",
    "plt.xlabel('Batches')\n",
    "plt.title('Test Accuracy vs. Batches')\n",
    "plt.tight_layout()\n",
    "plt.plot(stats, label='Accuracy')\n",
    "plt.legend()\n",
    "plt.show()"
   ]
  },
  {
   "cell_type": "code",
   "execution_count": 9,
   "metadata": {},
   "outputs": [
    {
     "data": {
      "text/plain": [
       "array([[ 8,  0,  0],\n",
       "       [ 0, 13,  1],\n",
       "       [ 0,  1,  7]])"
      ]
     },
     "execution_count": 9,
     "metadata": {},
     "output_type": "execute_result"
    }
   ],
   "source": [
    "# confusion matrix\n",
    "confusion_matrix(y_test, y_test_pred)"
   ]
  },
  {
   "cell_type": "code",
   "execution_count": 10,
   "metadata": {},
   "outputs": [
    {
     "name": "stdout",
     "output_type": "stream",
     "text": [
      "INFO:tensorflow:Restoring parameters from models/iris_core\n"
     ]
    }
   ],
   "source": [
    "# test import\n",
    "with tf.Session() as sess:\n",
    "    saver = tf.train.import_meta_graph('models/iris_core.meta')\n",
    "    saver.restore(sess, 'models/iris_core')\n",
    "    \n",
    "    x2 = tf.get_collection('x')[0]\n",
    "    y2 = tf.get_collection('y')[0]\n",
    "    pred_class2 = tf.get_collection('pred_class')[0]\n",
    "    \n",
    "    y_test_pred2 = sess.run(pred_class2, feed_dict={x2: x_test, y2: y_test})\n",
    "    assert np.array_equal(y_test_pred, y_test_pred2)"
   ]
  }
 ],
 "metadata": {
  "kernelspec": {
   "display_name": "Python 3",
   "language": "python",
   "name": "python3"
  },
  "language_info": {
   "codemirror_mode": {
    "name": "ipython",
    "version": 3
   },
   "file_extension": ".py",
   "mimetype": "text/x-python",
   "name": "python",
   "nbconvert_exporter": "python",
   "pygments_lexer": "ipython3",
   "version": "3.6.5"
  }
 },
 "nbformat": 4,
 "nbformat_minor": 2
}
